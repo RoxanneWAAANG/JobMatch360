{
 "cells": [
  {
   "cell_type": "code",
   "execution_count": null,
   "metadata": {},
   "outputs": [],
   "source": [
    "import pandas as pd"
   ]
  },
  {
   "cell_type": "code",
   "execution_count": null,
   "metadata": {},
   "outputs": [],
   "source": [
    "import pandas as pd\n",
    "\n",
    "job_skills_df = pd.read_csv(\"job_skills.csv\")\n",
    "job_summary_df = pd.read_csv(\"job_summary.csv\")\n",
    "job_postings_df = pd.read_csv(\"linkedin_job_postings.csv\")\n",
    "\n",
    "job_skills_df['job_link'] = job_skills_df['job_link'].str.strip()\n",
    "job_summary_df['job_link'] = job_summary_df['job_link'].str.strip()\n",
    "job_postings_df['job_link'] = job_postings_df['job_link'].str.strip()\n",
    "\n",
    "common_links = set(job_skills_df['job_link']) & set(job_summary_df['job_link']) & set(job_postings_df['job_link'])\n",
    "print(\"Number of overlap job_link\", len(common_links))\n",
    "\n",
    "job_skills_common = job_skills_df[job_skills_df['job_link'].isin(common_links)]\n",
    "job_summary_common = job_summary_df[job_summary_df['job_link'].isin(common_links)]\n",
    "job_postings_common = job_postings_df[job_postings_df['job_link'].isin(common_links)]\n",
    "\n",
    "merged_df = job_postings_common.merge(job_skills_common, on='job_link', how='inner')\n",
    "merged_df = merged_df.merge(job_summary_common, on='job_link', how='inner')\n",
    "\n",
    "common_columns = set(job_skills_common.columns) & set(job_summary_common.columns) & set(job_postings_common.columns)\n",
    "print(\"Common column: \", common_columns)\n",
    "\n",
    "subset_df = merged_df.head(100)\n",
    "subset_df.to_csv(\"merged_common_subset_100.csv\", index=False)\n",
    "\n"
   ]
  },
  {
   "cell_type": "code",
   "execution_count": null,
   "metadata": {},
   "outputs": [],
   "source": [
    "subset_df.shape"
   ]
  },
  {
   "cell_type": "code",
   "execution_count": null,
   "metadata": {},
   "outputs": [],
   "source": [
    "data = pd.read_csv(\"job_summary.csv\")\n",
    "data = data[:100]\n",
    "data.to_csv(\"job_summary_sub.csv\", index=False)\n",
    "data.shape"
   ]
  },
  {
   "cell_type": "code",
   "execution_count": null,
   "metadata": {},
   "outputs": [],
   "source": [
    "job_summary = pd.read_csv(\"job_summary_sub.csv\")\n",
    "job_summary.columns"
   ]
  },
  {
   "cell_type": "code",
   "execution_count": null,
   "metadata": {},
   "outputs": [],
   "source": [
    "job_skills = pd.read_csv(\"job_skills_sub.csv\")\n",
    "job_skills.columns"
   ]
  },
  {
   "cell_type": "code",
   "execution_count": null,
   "metadata": {},
   "outputs": [],
   "source": [
    "linkedin_job_postings = pd.read_csv(\"linkedin_job_postings_sub.csv\")\n",
    "linkedin_job_postings.columns"
   ]
  },
  {
   "cell_type": "code",
   "execution_count": null,
   "metadata": {},
   "outputs": [],
   "source": []
  }
 ],
 "metadata": {
  "kernelspec": {
   "display_name": "base",
   "language": "python",
   "name": "python3"
  },
  "language_info": {
   "codemirror_mode": {
    "name": "ipython",
    "version": 3
   },
   "file_extension": ".py",
   "mimetype": "text/x-python",
   "name": "python",
   "nbconvert_exporter": "python",
   "pygments_lexer": "ipython3",
   "version": "3.11.8"
  }
 },
 "nbformat": 4,
 "nbformat_minor": 2
}
